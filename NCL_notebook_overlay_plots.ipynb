{
 "cells": [
  {
   "cell_type": "markdown",
   "metadata": {
    "collapsed": false
   },
   "source": [
    "## DKRZ NCL notebook example\n",
    "<table align=\"left\">\n",
    "<tr><td>Title:</td><td>Overlay plots</td></tr>\n",
    "<tr><td>Description</td><td>Demonstrate how to overlay a contour line plot over a contour fill plot</td></tr>\n",
    "<tr><td>23.07.18</td><td>kmf</td></tr>\n",
    "</table>"
   ]
  },
  {
   "cell_type": "markdown",
   "metadata": {},
   "source": [
    "The term overlay plot means that on top of one plot a second plot (or more) is drawn. In most cases the so called base plot shows one variable and the overlayed plot shows another variable with another plot type. </br></br>\n",
    "The following example demonstrates how to overlay a contour line plot showing the variable relative humidity on top of the contour fill plot showing the variable temperature which is also a map plot."
   ]
  },
  {
   "cell_type": "markdown",
   "metadata": {},
   "source": [
    "Open the file which is included in the NCL package and read the variables t and rhumidity."
   ]
  },
  {
   "cell_type": "code",
   "execution_count": 1,
   "metadata": {
    "collapsed": false
   },
   "outputs": [
    {
     "name": "stdout",
     "output_type": "stream",
     "text": [
      "\n"
     ]
    }
   ],
   "source": [
    "f    = addfile(\"$NCARG_ROOT/lib/ncarg/data/nug/rectilinear_grid_3D.nc\",\"r\")\n",
    "temp = f->t\n",
    "rhum = f->rhumidity"
   ]
  },
  {
   "cell_type": "markdown",
   "metadata": {},
   "source": [
    "Send graphic output to PNG files plot_overlay.000001.png, plot_overlay.000002.png, ..."
   ]
  },
  {
   "cell_type": "code",
   "execution_count": 2,
   "metadata": {
    "collapsed": false
   },
   "outputs": [
    {
     "name": "stdout",
     "output_type": "stream",
     "text": [
      "\n"
     ]
    }
   ],
   "source": [
    "wks_type = \"png\"\n",
    "wks_type@wkWidth  = 400\n",
    "wks_type@wkHeight = 400\n",
    "wks = gsn_open_wks(wks_type,\"plot_overlay\")"
   ]
  },
  {
   "cell_type": "markdown",
   "metadata": {},
   "source": [
    "Set plot resources for variable temp. "
   ]
  },
  {
   "cell_type": "code",
   "execution_count": 3,
   "metadata": {
    "collapsed": false
   },
   "outputs": [
    {
     "name": "stdout",
     "output_type": "stream",
     "text": [
      "\n"
     ]
    }
   ],
   "source": [
    "rest = True\n",
    "rest@gsnDraw                =  False            ;-- draw only in memory\n",
    "rest@gsnFrame               =  False            ;-- don't advance the frame\n",
    "rest@gsnMaximize            =  True\n",
    "\n",
    "rest@cnFillOn               =  True\n",
    "rest@cnFillPalette          = \"cmp_b2r\"\n",
    "rest@cnLinesOn              =  False"
   ]
  },
  {
   "cell_type": "markdown",
   "metadata": {},
   "source": [
    "For a better visbility make the map outlines thicker and change the color to dark gray."
   ]
  },
  {
   "cell_type": "code",
   "execution_count": 4,
   "metadata": {
    "collapsed": false
   },
   "outputs": [
    {
     "name": "stdout",
     "output_type": "stream",
     "text": [
      "\n"
     ]
    }
   ],
   "source": [
    "rest@mpGeophysicalLineColor = \"gray10\"\n",
    "rest@mpGeophysicalLineThicknessF = 2."
   ]
  },
  {
   "cell_type": "markdown",
   "metadata": {},
   "source": [
    "Select a sub-region that we can see the contour lines better."
   ]
  },
  {
   "cell_type": "code",
   "execution_count": 5,
   "metadata": {
    "collapsed": false
   },
   "outputs": [
    {
     "name": "stdout",
     "output_type": "stream",
     "text": [
      "\n"
     ]
    }
   ],
   "source": [
    "rest@mpMinLatF              =  30.\n",
    "rest@mpMaxLatF              =  80.\n",
    "rest@mpMinLonF              = -15.\n",
    "rest@mpMaxLonF              =  60."
   ]
  },
  {
   "cell_type": "markdown",
   "metadata": {},
   "source": [
    "Create the contour fill plot of variable temp on a map."
   ]
  },
  {
   "cell_type": "code",
   "execution_count": 6,
   "metadata": {
    "collapsed": false
   },
   "outputs": [
    {
     "name": "stdout",
     "output_type": "stream",
     "text": [
      "\n"
     ]
    }
   ],
   "source": [
    "plot_temp = gsn_csm_contour_map(wks,temp(0,0,:,:),rest)"
   ]
  },
  {
   "cell_type": "markdown",
   "metadata": {},
   "source": [
    "Set plot resources for variable rhum. "
   ]
  },
  {
   "cell_type": "code",
   "execution_count": 7,
   "metadata": {
    "collapsed": false
   },
   "outputs": [
    {
     "name": "stdout",
     "output_type": "stream",
     "text": [
      "\n"
     ]
    }
   ],
   "source": [
    "resr = True\n",
    "resr@gsnDraw                =  False            ;-- draw only in memory\n",
    "resr@gsnFrame               =  False            ;-- don't advance the frame\n",
    "resr@gsnMaximize            =  True"
   ]
  },
  {
   "cell_type": "markdown",
   "metadata": {},
   "source": [
    "Create the contour line plot of variable rhum. **Note: don't use \\_map here**"
   ]
  },
  {
   "cell_type": "code",
   "execution_count": 8,
   "metadata": {
    "collapsed": false
   },
   "outputs": [
    {
     "name": "stdout",
     "output_type": "stream",
     "text": [
      "\n"
     ]
    }
   ],
   "source": [
    "plot_rhum = gsn_csm_contour(wks,rhum(0,0,:,:),resr)   ;-- don't use _map here!"
   ]
  },
  {
   "cell_type": "markdown",
   "metadata": {},
   "source": [
    "Overlay of plot_rhum onto plot_temp."
   ]
  },
  {
   "cell_type": "code",
   "execution_count": 9,
   "metadata": {
    "collapsed": false
   },
   "outputs": [
    {
     "name": "stdout",
     "output_type": "stream",
     "text": [
      "\n"
     ]
    }
   ],
   "source": [
    "overlay(plot_temp, plot_rhum)"
   ]
  },
  {
   "cell_type": "markdown",
   "metadata": {},
   "source": [
    "Draw the plot plot_temp and advance the frame."
   ]
  },
  {
   "cell_type": "code",
   "execution_count": 10,
   "metadata": {
    "collapsed": false
   },
   "outputs": [
    {
     "name": "stdout",
     "output_type": "stream",
     "text": [
      "\n"
     ]
    }
   ],
   "source": [
    "draw(plot_temp)\n",
    "frame(wks)"
   ]
  },
  {
   "cell_type": "markdown",
   "metadata": {},
   "source": [
    "![overlay plot 1](plot_overlay.000001.png)"
   ]
  },
  {
   "cell_type": "markdown",
   "metadata": {},
   "source": [
    "This representation is not very good because the map outlines and the contour lines are very similar. We need to set some additional resources for contour line color, style and thickness. Furthermore, we want to change the contour line minimum, maximum and interval."
   ]
  },
  {
   "cell_type": "markdown",
   "metadata": {},
   "source": [
    "Show minimum and maximum value of variable rhum."
   ]
  },
  {
   "cell_type": "code",
   "execution_count": 11,
   "metadata": {
    "collapsed": false
   },
   "outputs": [
    {
     "name": "stdout",
     "output_type": "stream",
     "text": [
      "\u001b[?1h\u001b=\n",
      "(0)     relative humidity : min=-0.142144   max=1.26039\n",
      "\u001b[K\u001b[?1l\u001b>\n"
     ]
    }
   ],
   "source": [
    "printMinMax(rhum,0)"
   ]
  },
  {
   "cell_type": "markdown",
   "metadata": {},
   "source": [
    "Set the minimum, maximum and interval for the contour lines."
   ]
  },
  {
   "cell_type": "code",
   "execution_count": 12,
   "metadata": {
    "collapsed": false
   },
   "outputs": [
    {
     "name": "stdout",
     "output_type": "stream",
     "text": [
      "\n"
     ]
    }
   ],
   "source": [
    "resr@cnLevelSelectionMode   = \"ManualLevels\"    ;-- use manual contour line levels\n",
    "resr@cnMinLevelValF         =  -0.15\n",
    "resr@cnMaxLevelValF         =   1.25\n",
    "resr@cnLevelSpacingF        =   0.1"
   ]
  },
  {
   "cell_type": "markdown",
   "metadata": {},
   "source": [
    "Set line label color, background color, size, and interval. Use different dash pattern for contour lines and change the contour line color and thickness."
   ]
  },
  {
   "cell_type": "code",
   "execution_count": 13,
   "metadata": {
    "collapsed": false
   },
   "outputs": [
    {
     "name": "stdout",
     "output_type": "stream",
     "text": [
      "\n"
     ]
    }
   ],
   "source": [
    "resr@cnLineLabelBackgroundColor = -1\n",
    "resr@cnLineLabelFormat      = \"0@;*.2f\"\n",
    "resr@cnMonoLevelFlag        =  False\n",
    "resr@cnLineLabelInterval    =  1\n",
    "resr@cnLineLabelFontHeightF =  0.010\n",
    "resr@cnLineLabelFontColor   = \"black\"\n",
    "\n",
    "resr@cnMonoLineDashPattern  =  False\n",
    "\n",
    "resr@cnLineColor            = \"red\"\n",
    "resr@cnLineThicknessF       =  2."
   ]
  },
  {
   "cell_type": "markdown",
   "metadata": {},
   "source": [
    "Create a new contour fill plot as base plot. **Note: normaly you can just overwrite the plot_temp object but the Jupyter notebook NCL Kernel would do something strange.**"
   ]
  },
  {
   "cell_type": "code",
   "execution_count": 14,
   "metadata": {
    "collapsed": false
   },
   "outputs": [
    {
     "name": "stdout",
     "output_type": "stream",
     "text": [
      "\n"
     ]
    }
   ],
   "source": [
    "plot_temp2 = gsn_csm_contour_map(wks,temp(0,0,:,:),rest)"
   ]
  },
  {
   "cell_type": "markdown",
   "metadata": {},
   "source": [
    "Create new contour line plot of variable rhum using the changed resources. **Note: normaly you can just overwrite the plot_rhum object but the Jupyter notebook NCL Kernel would do something strange.**"
   ]
  },
  {
   "cell_type": "code",
   "execution_count": 15,
   "metadata": {
    "collapsed": false
   },
   "outputs": [
    {
     "name": "stdout",
     "output_type": "stream",
     "text": [
      "\n"
     ]
    }
   ],
   "source": [
    "plot_rhum2 = gsn_csm_contour(wks,rhum(0,0,:,:),resr)"
   ]
  },
  {
   "cell_type": "markdown",
   "metadata": {},
   "source": [
    "Overlay of plot_rhum onto plot_temp."
   ]
  },
  {
   "cell_type": "code",
   "execution_count": 16,
   "metadata": {
    "collapsed": false
   },
   "outputs": [
    {
     "name": "stdout",
     "output_type": "stream",
     "text": [
      "\n"
     ]
    }
   ],
   "source": [
    "overlay(plot_temp2, plot_rhum2)"
   ]
  },
  {
   "cell_type": "markdown",
   "metadata": {},
   "source": [
    "Draw the plot plot_temp and advance the frame."
   ]
  },
  {
   "cell_type": "code",
   "execution_count": 17,
   "metadata": {
    "collapsed": false
   },
   "outputs": [
    {
     "name": "stdout",
     "output_type": "stream",
     "text": [
      "\n"
     ]
    }
   ],
   "source": [
    "draw(plot_temp2)\n",
    "frame(wks)"
   ]
  },
  {
   "cell_type": "markdown",
   "metadata": {},
   "source": [
    "![overlay plot 2](plot_overlay.000002.png)"
   ]
  }
 ],
 "metadata": {
  "kernelspec": {
   "display_name": "NCL",
   "language": "ncl",
   "name": "ncl_kernel"
  },
  "language_info": {
   "file_extension": ".ncl",
   "mimetype": "text/plain",
   "name": "ncl"
  }
 },
 "nbformat": 4,
 "nbformat_minor": 0
}
