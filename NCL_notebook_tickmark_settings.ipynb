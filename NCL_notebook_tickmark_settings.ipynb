{
 "cells": [
  {
   "cell_type": "markdown",
   "metadata": {},
   "source": [
    "## DKRZ NCL notebook example\n",
    "<table align=\"left\">\n",
    "<tr><td>Title:</td><td>tickmark settings</td></tr>\n",
    "<tr><td>Description</td><td>Demonstrate the correct use of the time coordinate variable (yyyymm)</td></tr>\n",
    "<tr><td>03.07.18</td><td>kmf</td></tr>\n",
    "</table>"
   ]
  },
  {
   "cell_type": "markdown",
   "metadata": {},
   "source": [
    "First, we define our graphical output (wks) type, size and name."
   ]
  },
  {
   "cell_type": "code",
   "execution_count": 41,
   "metadata": {
    "collapsed": false
   },
   "outputs": [
    {
     "name": "stdout",
     "output_type": "stream",
     "text": [
      "\n"
     ]
    }
   ],
   "source": [
    "  wks_type          = \"png\"                             ;-- graphic output type\n",
    "  wks_type@wkWidth  =  1200                             ;-- width of PNG file\n",
    "  wks_type@wkHeight =  1200                             ;-- height if PNG file\n",
    "  wks = gsn_open_wks(wks_type,\"plot_tickmark_resources_xy\")"
   ]
  },
  {
   "cell_type": "markdown",
   "metadata": {},
   "source": [
    "Now, we have to set some general resources for the plot."
   ]
  },
  {
   "cell_type": "code",
   "execution_count": 42,
   "metadata": {
    "collapsed": false
   },
   "outputs": [
    {
     "name": "stdout",
     "output_type": "stream",
     "text": [
      "\n"
     ]
    }
   ],
   "source": [
    "  res                           =  True\n",
    "  res@gsnDraw                   =  False\n",
    "  res@gsnFrame                  =  False"
   ]
  },
  {
   "cell_type": "markdown",
   "metadata": {},
   "source": [
    "Define the x-axis title string, font and size."
   ]
  },
  {
   "cell_type": "code",
   "execution_count": 43,
   "metadata": {
    "collapsed": false
   },
   "outputs": [
    {
     "name": "stdout",
     "output_type": "stream",
     "text": [
      "\n"
     ]
    }
   ],
   "source": [
    "  res@tiXAxisString             = \"time\"                ;-- x-axis title string\n",
    "  res@tiXAxisFont               =  30                   ;-- x-axis title font (courier-bold)\n",
    "  res@tiXAxisFontHeightF        =  0.014                ;-- x-axis title font size"
   ]
  },
  {
   "cell_type": "markdown",
   "metadata": {},
   "source": [
    "Ok, lets do it for the y-axis title, too."
   ]
  },
  {
   "cell_type": "code",
   "execution_count": 44,
   "metadata": {
    "collapsed": false
   },
   "outputs": [
    {
     "name": "stdout",
     "output_type": "stream",
     "text": [
      "\n"
     ]
    }
   ],
   "source": [
    "  res@tiYAxisString             = \"y\"                   ;-- y-axis title string\n",
    "  res@tiYAxisFont               =  30                   ;-- y-axis title font (courier-bold)\n",
    "  res@tiYAxisFontHeightF        =  0.014                ;-- y-axis title font size"
   ]
  },
  {
   "cell_type": "markdown",
   "metadata": {},
   "source": [
    "Change the default axis border line color and thickness."
   ]
  },
  {
   "cell_type": "code",
   "execution_count": 45,
   "metadata": {
    "collapsed": false
   },
   "outputs": [
    {
     "name": "stdout",
     "output_type": "stream",
     "text": [
      "\n"
     ]
    }
   ],
   "source": [
    "  res@tmBorderLineColor         = \"blue\"                ;-- x- and y-axis line color\n",
    "  res@tmBorderThicknessF        =  8.                   ;-- x- and y-axis line thickness"
   ]
  },
  {
   "cell_type": "markdown",
   "metadata": {},
   "source": [
    "Change the default bottom x-axis label size, color and tickmark thickness."
   ]
  },
  {
   "cell_type": "code",
   "execution_count": 46,
   "metadata": {
    "collapsed": false
   },
   "outputs": [
    {
     "name": "stdout",
     "output_type": "stream",
     "text": [
      "\n"
     ]
    }
   ],
   "source": [
    "  res@tmXBLabelFontHeightF      =  0.012                ;-- bottom x-axis label font size\n",
    "  res@tmXBLabelFontColor        = \"red\"                 ;-- bottom x-axis label color\n",
    "\n",
    "  res@tmXBMajorLineColor        = \"red\"                 ;-- bottom x-axis major tickmark color\n",
    "  res@tmXBMinorLineColor        = \"red\"                 ;-- bottom x-axis minor tickmark color\n",
    "  res@tmXBMajorThicknessF       =  5.                   ;-- bottom x-axis major tickmarks thickness\n",
    "  res@tmXBMinorThicknessF       =  5.                   ;-- bottom x-axis minor tickmarks thickness\n",
    "  "
   ]
  },
  {
   "cell_type": "markdown",
   "metadata": {},
   "source": [
    "We're doing now the same for the left y-axis."
   ]
  },
  {
   "cell_type": "code",
   "execution_count": 47,
   "metadata": {
    "collapsed": false
   },
   "outputs": [
    {
     "name": "stdout",
     "output_type": "stream",
     "text": [
      "\n"
     ]
    }
   ],
   "source": [
    "  res@tmYLLabelFontHeightF      =  0.012                ;-- left y-axis label font size\n",
    "  res@tmYLLabelFontColor        = \"blue\"                ;-- left y-axis label color\n",
    "\n",
    "  res@tmYLMajorLineColor        = \"blue\"                ;-- left y-axis major tickmark color\n",
    "  res@tmYLMinorLineColor        = \"blue\"                ;-- left y-axis minor tickmark color\n",
    "  res@tmYLMajorThicknessF       =  5.                   ;-- left y-axis major tickmarks thickness\n",
    "  res@tmYLMinorThicknessF       =  5.                   ;-- left y-axis minor tickmarks thickness"
   ]
  },
  {
   "cell_type": "markdown",
   "metadata": {},
   "source": [
    "Define the viewport size and position."
   ]
  },
  {
   "cell_type": "code",
   "execution_count": 48,
   "metadata": {
    "collapsed": false
   },
   "outputs": [
    {
     "name": "stdout",
     "output_type": "stream",
     "text": [
      "\n"
     ]
    }
   ],
   "source": [
    "  res@vpXF                      =  0.1                  ;-- set viewport x-position\n",
    "  res@vpYF                      =  0.89                 ;-- set viewport y-position\n",
    "  res@vpWidthF                  =  0.85                 ;-- set viewport width\n",
    "  res@vpHeightF                 =  0.38                 ;-- set viewport height"
   ]
  },
  {
   "cell_type": "markdown",
   "metadata": {},
   "source": [
    "In this example we are using dummy data and we have to define the time values for the x-axis."
   ]
  },
  {
   "cell_type": "code",
   "execution_count": 49,
   "metadata": {
    "collapsed": false
   },
   "outputs": [
    {
     "name": "stdout",
     "output_type": "stream",
     "text": [
      "\n"
     ]
    }
   ],
   "source": [
    "  time    = yyyymm_time(2000,2009,\"integer\")            ;-- creates a 1D array containing year-month (yyyymm) values\n",
    "\n",
    ";!!!\n",
    ";!!! The time array values are now 200001, 200002, 200003,..., 200012, 200101,... !!!\n",
    ";!!!                                                           --------------\n",
    ";!!! These leaps are the reason why the xy-plot line looks like a stair!\n",
    ";!!!\n",
    "\n",
    "  ntime   = dimsizes(time)                              ;-- number of time steps"
   ]
  },
  {
   "cell_type": "markdown",
   "metadata": {},
   "source": [
    "Generate the dummy data, here simple linear increasing values."
   ]
  },
  {
   "cell_type": "code",
   "execution_count": 50,
   "metadata": {
    "collapsed": false
   },
   "outputs": [
    {
     "name": "stdout",
     "output_type": "stream",
     "text": [
      "\n"
     ]
    }
   ],
   "source": [
    "  y      =  ispan(1,ntime,1)                            ;-- generate data array\n",
    "  y!0    = \"time\"                                       ;-- set named dimension time\n",
    "  y&time =  time                                        ;-- reference time coordinate variable "
   ]
  },
  {
   "cell_type": "markdown",
   "metadata": {},
   "source": [
    "If we want to control the view of the xy-plot we have to set some xy-resources."
   ]
  },
  {
   "cell_type": "code",
   "execution_count": 51,
   "metadata": {
    "collapsed": false
   },
   "outputs": [
    {
     "name": "stdout",
     "output_type": "stream",
     "text": [
      "\n"
     ]
    }
   ],
   "source": [
    "  res@xyLabelMode               = \"Custom\"              ;-- xy-plot line label mode\n",
    "  res@xyExplicitLabels          = \"my label\"            ;-- label the xy-plot line\n",
    "  res@xyLineLabelFontHeightF    =  0.018                ;-- size of the label\n",
    "  res@xyLineThicknessF          =  2.0                  ;-- xy-plot line thickness\n",
    "  res@xyLineColor               = \"red\"                 ;-- xy-plot line color\n",
    "  res@xyLineDashSegLenF         =  0.3                  ;-- distance between xy-plot line labels"
   ]
  },
  {
   "cell_type": "markdown",
   "metadata": {},
   "source": [
    "Define the plot title string and its size."
   ]
  },
  {
   "cell_type": "code",
   "execution_count": 52,
   "metadata": {
    "collapsed": false
   },
   "outputs": [
    {
     "name": "stdout",
     "output_type": "stream",
     "text": [
      "\n"
     ]
    }
   ],
   "source": [
    "  res@tiMainFontHeightF         =  0.022                ;-- title font size\n",
    "  res@tiMainString              = \"wrong use of the time coordinate variable (yyyymm)\"    ;-- title string"
   ]
  },
  {
   "cell_type": "markdown",
   "metadata": {},
   "source": [
    "Create the first plot in memory. We do this to generate a second plot which should be in the same frame as the first one using a panel function."
   ]
  },
  {
   "cell_type": "code",
   "execution_count": 53,
   "metadata": {
    "collapsed": false
   },
   "outputs": [
    {
     "name": "stdout",
     "output_type": "stream",
     "text": [
      "\n"
     ]
    }
   ],
   "source": [
    "  plot1 = gsn_csm_xy(wks,time,y,res)  "
   ]
  },
  {
   "cell_type": "markdown",
   "metadata": {},
   "source": [
    "Now, we want to prepare the second plot.\n",
    "\n",
    "Generate the time index and year arrays for explicit x-axis use."
   ]
  },
  {
   "cell_type": "code",
   "execution_count": 54,
   "metadata": {
    "collapsed": false
   },
   "outputs": [
    {
     "name": "stdout",
     "output_type": "stream",
     "text": [
      "\n"
     ]
    }
   ],
   "source": [
    "  inttime = ispan(1,ntime,1)                            ;-- create an index array for x-axis dimension time\n",
    "  years   = str_get_cols(tostring(time),0,3)            ;-- retrieve the years"
   ]
  },
  {
   "cell_type": "markdown",
   "metadata": {},
   "source": [
    "Generate the time axis labels."
   ]
  },
  {
   "cell_type": "code",
   "execution_count": 55,
   "metadata": {
    "collapsed": false
   },
   "outputs": [
    {
     "name": "stdout",
     "output_type": "stream",
     "text": [
      "\n"
     ]
    }
   ],
   "source": [
    "  tlabels    = new(ntime,\"string\")                      ;-- create new array for time x-axis labels\n",
    "  tlabels    = \"\"                                       ;-- initialize tlabels array\n",
    "  yr         = years(0)                                 ;-- init yr\n",
    "  tlabels(0) = yr                                       ;-- first label\n",
    "\n",
    "  do i=1,ntime-1\n",
    "     if(years(i) .ne. yr) then\n",
    "        tlabels(i) = years(i)                           ;-- we want only the first year entries of years array\n",
    "        yr = years(i)                                   ;-- next year\n",
    "     end if\n",
    "  end do"
   ]
  },
  {
   "cell_type": "markdown",
   "metadata": {},
   "source": [
    "Change the default bottom x-axis labels."
   ]
  },
  {
   "cell_type": "code",
   "execution_count": 56,
   "metadata": {
    "collapsed": false
   },
   "outputs": [
    {
     "name": "stdout",
     "output_type": "stream",
     "text": [
      "\n"
     ]
    }
   ],
   "source": [
    "  res@tmXBMode                  = \"Explicit\"            ;-- explicit setting of tick marks and labels\n",
    "  res@tmXBValues                =  inttime(::12)        ;-- locations for major tick marks\n",
    "  res@tmXBMinorValues           =  inttime(::3)         ;-- locations for minor tick marks (tmXBMode \"Ecplicit\")\n",
    "  res@tmXBLabels                =  tlabels(::12)        ;-- labels of major tick marks"
   ]
  },
  {
   "cell_type": "markdown",
   "metadata": {},
   "source": [
    "Change the plot title string."
   ]
  },
  {
   "cell_type": "code",
   "execution_count": 57,
   "metadata": {
    "collapsed": false
   },
   "outputs": [
    {
     "name": "stdout",
     "output_type": "stream",
     "text": [
      "\n"
     ]
    }
   ],
   "source": [
    "  res@tiMainString              = \"correct use of the time coordinate variable (yyyymm)\"    ;-- title string"
   ]
  },
  {
   "cell_type": "markdown",
   "metadata": {},
   "source": [
    "Create the second plot in memory."
   ]
  },
  {
   "cell_type": "code",
   "execution_count": 58,
   "metadata": {
    "collapsed": false
   },
   "outputs": [
    {
     "name": "stdout",
     "output_type": "stream",
     "text": [
      "\n"
     ]
    }
   ],
   "source": [
    "  plot2 = gsn_csm_xy(wks,inttime,y,res)"
   ]
  },
  {
   "cell_type": "markdown",
   "metadata": {},
   "source": [
    "We want to display both plots in the same frame using the gsn_panel function.\n",
    "\n",
    "The panel resources increase the space between the plots a little bit and define the panel title string."
   ]
  },
  {
   "cell_type": "code",
   "execution_count": 59,
   "metadata": {
    "collapsed": false
   },
   "outputs": [
    {
     "name": "stdout",
     "output_type": "stream",
     "text": [
      "\n"
     ]
    }
   ],
   "source": [
    "  pres = True\n",
    "  pres@gsnPanelYWhiteSpacePercent = 5                   ;-- more space between the plots\n",
    "  pres@gsnPanelMainString         = \"Data vs. Time\"     ;-- panel title string"
   ]
  },
  {
   "cell_type": "markdown",
   "metadata": {},
   "source": [
    "Create the panel plot (2 rows x 1 column) and advance the frame"
   ]
  },
  {
   "cell_type": "code",
   "execution_count": 60,
   "metadata": {
    "collapsed": false
   },
   "outputs": [
    {
     "name": "stdout",
     "output_type": "stream",
     "text": [
      "\n"
     ]
    }
   ],
   "source": [
    "  gsn_panel(wks,(/plot1,plot2/),(/2,1/),pres)"
   ]
  },
  {
   "cell_type": "markdown",
   "metadata": {},
   "source": [
    "Show the PNG plot file.\n",
    "![tickmark settings panel plot](plot_tickmark_resources_xy.png)"
   ]
  }
 ],
 "metadata": {
  "kernelspec": {
   "display_name": "NCL",
   "language": "ncl",
   "name": "ncl_kernel"
  },
  "language_info": {
   "file_extension": ".ncl",
   "mimetype": "text/plain",
   "name": "ncl"
  }
 },
 "nbformat": 4,
 "nbformat_minor": 0
}
