{
 "cells": [
  {
   "cell_type": "markdown",
   "metadata": {},
   "source": [
    "# NCL ipython notebook test"
   ]
  },
  {
   "cell_type": "code",
   "execution_count": 14,
   "metadata": {
    "collapsed": false
   },
   "outputs": [
    {
     "name": "stdout",
     "output_type": "stream",
     "text": [
      "\n"
     ]
    }
   ],
   "source": [
    ";-- comment line"
   ]
  },
  {
   "cell_type": "code",
   "execution_count": 15,
   "metadata": {
    "collapsed": false
   },
   "outputs": [
    {
     "name": "stdout",
     "output_type": "stream",
     "text": [
      "\u001b[?1h\u001b=\n",
      "netcdf rectilinear_grid_2D {\n",
      "dimensions:\n",
      "        lon = 192 ;\n",
      "        lat = 96 ;\n",
      "        time = UNLIMITED ; // (40 currently)\n",
      "variables:\n",
      "        double lon(lon) ;\n",
      "                lon:standard_name = \"longitude\" ;\n",
      "                lon:long_name = \"longitude\" ;\n",
      "                lon:units = \"degrees_east\" ;\n",
      "                lon:axis = \"X\" ;\n",
      "        double lat(lat) ;\n",
      "                lat:standard_name = \"latitude\" ;\n",
      "                lat:long_name = \"latitude\" ;\n",
      "                lat:units = \"degrees_north\" ;\n",
      "                lat:axis = \"Y\" ;\n",
      "        double time(time) ;\n",
      "                time:standard_name = \"time\" ;\n",
      "                time:units = \"hours since 2001-01-01 00:00:00\" ;\n",
      "                time:calendar = \"standard\" ;\n",
      "        float tsurf(time, lat, lon) ;\n",
      "                tsurf:long_name = \"surface temperature\" ;\n",
      "                tsurf:units = \"K\" ;\n",
      "                tsurf:code = 169 ;\n",
      "                tsurf:table = 128 ;\n",
      "                tsurf:grid_type = \"gaussian\" ;\n",
      "        float precip(time, lat, lon) ;\n",
      "                precip:long_name = \"total precipitation\" ;\n",
      "                precip:units = \"kg/m^2s\" ;\n",
      "                precip:code = 4 ;\n",
      "                precip:table = 128 ;\n",
      "                precip:grid_type = \"gaussian\" ;\n",
      "        float u10(time, lat, lon) ;\n",
      "                u10:long_name = \"10m u-velocity\" ;\n",
      "                u10:units = \"m/s\" ;\n",
      "                u10:code = 165 ;\n",
      "                u10:table = 128 ;\n",
      "                u10:grid_type = \"gaussian\" ;\n",
      "        float v10(time, lat, lon) ;\n",
      "                v10:long_name = \"10m v-velocity\" ;\n",
      "                v10:units = \"m/s\" ;\n",
      "                v10:code = 166 ;\n",
      "                v10:table = 128 ;\n",
      "                v10:grid_type = \"gaussian\" ;\n",
      "        float qvi(time, lat, lon) ;\n",
      "                qvi:long_name = \"vertically integrated water vapor\" ;\n",
      "                qvi:units = \"kg/m^2\" ;\n",
      "                qvi:code = 230 ;\n",
      "                qvi:table = 128 ;\n",
      "                qvi:grid_type = \"gaussian\" ;\n",
      "        float slp(time, lat, lon) ;\n",
      "                slp:long_name = \"mean sea level pressure\" ;\n",
      "                slp:units = \"Pa\" ;\n",
      "                slp:code = 151 ;\n",
      "                slp:table = 128 ;\n",
      "                slp:grid_type = \"gaussian\" ;\n",
      "}\n",
      "\u001b[K\u001b[?1l\u001b>\n"
     ]
    }
   ],
   "source": [
    "filename = \"$HOME/NCL/NUG/Version_1.0/data/rectilinear_grid_2D.nc\"\n",
    "system(\"ncdump -h \"+filename)"
   ]
  },
  {
   "cell_type": "code",
   "execution_count": 16,
   "metadata": {
    "collapsed": false
   },
   "outputs": [
    {
     "name": "stdout",
     "output_type": "stream",
     "text": [
      "Variable: f\n",
      "Type: file\n",
      "File path:\t/Users/k204045/NCL/NUG/Version_1.0/data/rectilinear_grid_2D.nc\n",
      "Number of global attributes:\t 0\n",
      "Number of dimensions:\t 3\n",
      "Number of variables:\t 9\n"
     ]
    }
   ],
   "source": [
    "f = addfile(filename,\"r\")\n",
    "printVarSummary(f)"
   ]
  },
  {
   "cell_type": "code",
   "execution_count": 17,
   "metadata": {
    "collapsed": false
   },
   "outputs": [
    {
     "name": "stdout",
     "output_type": "stream",
     "text": [
      "Variable: t\n",
      "Type: float\n",
      "Total Size: 2949120 bytes\n",
      "            737280 values\n",
      "Number of Dimensions: 3\n",
      "Dimensions and sizes:\t[time | 40] x [lat | 96] x [lon | 192]\n",
      "Coordinates: \n",
      "            time: [   0.. 234]\n",
      "            lat: [88.57216851400727..-88.57216851400727]\n",
      "            lon: [-180..178.125]\n",
      "Number Of Attributes: 5\n",
      "  grid_type :\tgaussian\n",
      "  table :\t128\n",
      "  code :\t169\n",
      "  units :\tK\n",
      "  long_name :\tsurface temperature\n"
     ]
    }
   ],
   "source": [
    "t = f->tsurf\n",
    "printVarSummary(t)"
   ]
  },
  {
   "cell_type": "code",
   "execution_count": 18,
   "metadata": {
    "collapsed": false
   },
   "outputs": [
    {
     "name": "stdout",
     "output_type": "stream",
     "text": [
      "\n"
     ]
    }
   ],
   "source": [
    "wks = gsn_open_wks(\"png\",\"test\")"
   ]
  },
  {
   "cell_type": "code",
   "execution_count": 19,
   "metadata": {
    "collapsed": false
   },
   "outputs": [
    {
     "name": "stdout",
     "output_type": "stream",
     "text": [
      "\n"
     ]
    }
   ],
   "source": [
    "res              =  True\n",
    "res@gsnFrame     =  False\n",
    "res@cnFillOn     =  True\n",
    "res@tiMainString = \"Title string\""
   ]
  },
  {
   "cell_type": "code",
   "execution_count": 20,
   "metadata": {
    "collapsed": false
   },
   "outputs": [
    {
     "name": "stdout",
     "output_type": "stream",
     "text": [
      "\n"
     ]
    }
   ],
   "source": [
    "plot = gsn_csm_contour_map(wks,t(1,:,:),res)"
   ]
  },
  {
   "cell_type": "code",
   "execution_count": 21,
   "metadata": {
    "collapsed": false
   },
   "outputs": [
    {
     "name": "stdout",
     "output_type": "stream",
     "text": [
      "\n"
     ]
    }
   ],
   "source": [
    "txres = True\n",
    "txres@txFontHeightF = 0.016"
   ]
  },
  {
   "cell_type": "code",
   "execution_count": 22,
   "metadata": {
    "collapsed": false
   },
   "outputs": [
    {
     "name": "stdout",
     "output_type": "stream",
     "text": [
      "\n"
     ]
    }
   ],
   "source": [
    "gsn_text_ndc(wks,\"new text line\",0.5,0.75,txres)"
   ]
  },
  {
   "cell_type": "code",
   "execution_count": 23,
   "metadata": {
    "collapsed": false
   },
   "outputs": [
    {
     "name": "stdout",
     "output_type": "stream",
     "text": [
      "\n"
     ]
    }
   ],
   "source": [
    ";setvalues plot@contour\n",
    ";  \"cnLinesOn\"  :  False\n",
    ";end setvalues\n",
    "\n",
    ";draw(plot)"
   ]
  },
  {
   "cell_type": "code",
   "execution_count": 24,
   "metadata": {
    "collapsed": false
   },
   "outputs": [
    {
     "name": "stdout",
     "output_type": "stream",
     "text": [
      "\n"
     ]
    }
   ],
   "source": [
    "frame(wks)"
   ]
  },
  {
   "cell_type": "code",
   "execution_count": 25,
   "metadata": {
    "collapsed": false,
    "scrolled": true
   },
   "outputs": [
    {
     "name": "stdout",
     "output_type": "stream",
     "text": [
      "\u001b[?1h\u001b=\n",
      "\u001b[K\u001b[?1l\u001b>\n"
     ]
    }
   ],
   "source": [
    "system(\"convert -trim +repage test.png test-small.png; rm -rf test.png\")"
   ]
  },
  {
   "cell_type": "markdown",
   "metadata": {},
   "source": [
    " Display the plot file content in external window using open or display (Code cell):  system(\"open test\\-small.png\")\n",
    " \n",
    " Display the plot file content inline (Markdown cell):    \\!\\[title\\]\\(test\\-small.png \"Title\")\n",
    "\n",
    "![plot file test-small.png](test-small.png \"Image Title\")\n"
   ]
  },
  {
   "cell_type": "code",
   "execution_count": null,
   "metadata": {
    "collapsed": true
   },
   "outputs": [],
   "source": []
  },
  {
   "cell_type": "code",
   "execution_count": null,
   "metadata": {
    "collapsed": true
   },
   "outputs": [],
   "source": []
  }
 ],
 "metadata": {
  "kernelspec": {
   "display_name": "NCL",
   "language": "ncl",
   "name": "ncl_kernel"
  },
  "language_info": {
   "file_extension": ".ncl",
   "mimetype": "text/plain",
   "name": "ncl"
  }
 },
 "nbformat": 4,
 "nbformat_minor": 2
}
