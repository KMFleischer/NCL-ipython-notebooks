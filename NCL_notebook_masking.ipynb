{
 "cells": [
  {
   "cell_type": "markdown",
   "metadata": {},
   "source": [
    "## DKRZ NCL notebook example\n",
    "<table align=\"left\">\n",
    "<tr><td>Title:</td><td>Masking</td></tr>\n",
    "<tr><td>Description</td><td>Demonstrate how to compute a mask file and use it to mask a variable</td></tr>\n",
    "<tr><td>20.07.18</td><td>kmf</td></tr>\n",
    "</table>"
   ]
  },
  {
   "cell_type": "markdown",
   "metadata": {},
   "source": [
    "This example will show you how to mask your data when you do not have a mask file. In this case the CDO (Climate Data Operators) are used to compute the mask on the desired grid. *After generating the mask file comment the line 'system(cmd)' at the top of this script.*</br></br>\n",
    "\n",
    "The ESFM_regridding.ncl library must be loaded on top of the script only when your NCL is older than the version 6.5.0 (ncl -V).\n"
   ]
  },
  {
   "cell_type": "code",
   "execution_count": 29,
   "metadata": {
    "collapsed": false
   },
   "outputs": [
    {
     "name": "stdout",
     "output_type": "stream",
     "text": [
      "\n"
     ]
    }
   ],
   "source": [
    "load \"$NCARG_ROOT/lib/ncarg/nclscripts/esmf/ESMF_regridding.ncl\" ;-- since v6.5.0 already loaded"
   ]
  },
  {
   "cell_type": "markdown",
   "metadata": {},
   "source": [
    "The name of the data file."
   ]
  },
  {
   "cell_type": "code",
   "execution_count": 30,
   "metadata": {
    "collapsed": false
   },
   "outputs": [
    {
     "name": "stdout",
     "output_type": "stream",
     "text": [
      "\u001b[?1h\u001b=\n",
      "\u001b[K\u001b[?1l\u001b>\n"
     ]
    }
   ],
   "source": [
    "filename = \"$HOME/data/CMIP5/atmos/tas_Amon_MPI-ESM-LR_historical_r1i1p1_1980.nc\""
   ]
  },
  {
   "cell_type": "markdown",
   "metadata": {},
   "source": [
    "Compute the mask file using CDO's topo operator, remap it to the desired grid (here a 1x1 degree grid\n",
    "= r360x180), and save it as mask.nc file. </br>\n",
    "**After generating the mask file once comment the line 'system(cmd)' at the top of this script with *;* .**"
   ]
  },
  {
   "cell_type": "code",
   "execution_count": 31,
   "metadata": {
    "collapsed": false
   },
   "outputs": [
    {
     "name": "stdout",
     "output_type": "stream",
     "text": [
      "\n"
     ]
    }
   ],
   "source": [
    "cmd = \"cdo -f nc -chname,topo,mask -expr,'topo=((topo>0.0))?1.0:0.0' -remapycon,r360x180 -topo mask.nc\"\n",
    "system(cmd)"
   ]
  },
  {
   "cell_type": "markdown",
   "metadata": {},
   "source": [
    "Open file and read the variable."
   ]
  },
  {
   "cell_type": "code",
   "execution_count": 32,
   "metadata": {
    "collapsed": false
   },
   "outputs": [
    {
     "name": "stdout",
     "output_type": "stream",
     "text": [
      "\n"
     ]
    }
   ],
   "source": [
    "f   = addfile(filename,\"r\")\n",
    "tas = f->tas(0,:,:)"
   ]
  },
  {
   "cell_type": "markdown",
   "metadata": {},
   "source": [
    "Set some ESMF resources."
   ]
  },
  {
   "cell_type": "code",
   "execution_count": 33,
   "metadata": {
    "collapsed": false
   },
   "outputs": [
    {
     "name": "stdout",
     "output_type": "stream",
     "text": [
      "\n"
     ]
    }
   ],
   "source": [
    "  Opt                     =  True\n",
    "  Opt@InterpMethod        = \"bilinear\"\n",
    "  Opt@ForceOverwrite      =  True\n",
    "  Opt@DstGridType         = \"1x1\"                       ;-- Destination grid\n",
    "  Opt@DstLLCorner         =  (/-89.75d,   0.00d /)\n",
    "  Opt@DstURCorner         =  (/ 89.75d, 359.75d /)"
   ]
  },
  {
   "cell_type": "markdown",
   "metadata": {},
   "source": [
    "Do the regridding of the data to the desired grid (1x1 degrees)"
   ]
  },
  {
   "cell_type": "code",
   "execution_count": 34,
   "metadata": {
    "collapsed": false
   },
   "outputs": [
    {
     "name": "stdout",
     "output_type": "stream",
     "text": [
      "\n"
     ]
    }
   ],
   "source": [
    "tas_regrid = ESMF_regrid(tas,Opt)"
   ]
  },
  {
   "cell_type": "markdown",
   "metadata": {},
   "source": [
    "Open mask file and read mask variable."
   ]
  },
  {
   "cell_type": "code",
   "execution_count": 35,
   "metadata": {
    "collapsed": false
   },
   "outputs": [
    {
     "name": "stdout",
     "output_type": "stream",
     "text": [
      "\n"
     ]
    }
   ],
   "source": [
    "m  = addfile(\"mask.nc\",\"r\")\n",
    "ma = m->mask"
   ]
  },
  {
   "cell_type": "markdown",
   "metadata": {},
   "source": [
    "Mask the ocean."
   ]
  },
  {
   "cell_type": "code",
   "execution_count": 36,
   "metadata": {
    "collapsed": false
   },
   "outputs": [
    {
     "name": "stdout",
     "output_type": "stream",
     "text": [
      "\u001b[?1h\u001b=\n",
      "\u001b[K\u001b[?1l\u001b>\u001b[?1h\u001b=\n",
      "\u001b[K\u001b[?1l\u001b>\u001b[?1h\u001b=\n",
      "\u001b[K\u001b[?1l\u001b>\n"
     ]
    }
   ],
   "source": [
    "land_only = tas_regrid                                ;-- copy variable to keep the metadata\n",
    "land_only = mask(tas_regrid,ma,1)                     ;-- retrieve tas_regrid where ma=1"
   ]
  },
  {
   "cell_type": "markdown",
   "metadata": {},
   "source": [
    "Open a workstation. Save graphic output to PNG file."
   ]
  },
  {
   "cell_type": "code",
   "execution_count": 37,
   "metadata": {
    "collapsed": false
   },
   "outputs": [
    {
     "name": "stdout",
     "output_type": "stream",
     "text": [
      "\n"
     ]
    }
   ],
   "source": [
    "wks_type = \"png\"\n",
    "wks_type@wkWidth  = 400\n",
    "wks_type@wkHeight = 400\n",
    "wks = gsn_open_wks(wks_type,\"plot_notebook_masking\")"
   ]
  },
  {
   "cell_type": "markdown",
   "metadata": {},
   "source": [
    "Set plot resources: maximize plot, use contour fill, no contour lines, and raster fill mode"
   ]
  },
  {
   "cell_type": "code",
   "execution_count": 38,
   "metadata": {
    "collapsed": false
   },
   "outputs": [
    {
     "name": "stdout",
     "output_type": "stream",
     "text": [
      "\n"
     ]
    }
   ],
   "source": [
    "res =  True\n",
    "res@gsnMaximize   =  True\n",
    "\n",
    "res@cnFillOn      =  True\n",
    "res@cnLinesOn     =  False\n",
    "res@cnFillMode    = \"RasterFill\""
   ]
  },
  {
   "cell_type": "markdown",
   "metadata": {},
   "source": [
    "First plot: Create the contour plot of the regridded variable tas. **To get rid of the white space around the plot use ImageMagicks *convert* program.**"
   ]
  },
  {
   "cell_type": "code",
   "execution_count": 39,
   "metadata": {
    "collapsed": false
   },
   "outputs": [
    {
     "name": "stdout",
     "output_type": "stream",
     "text": [
      "\n"
     ]
    }
   ],
   "source": [
    "plot_data = gsn_csm_contour_map(wks,tas_regrid,res)"
   ]
  },
  {
   "cell_type": "code",
   "execution_count": 40,
   "metadata": {
    "collapsed": false
   },
   "outputs": [
    {
     "name": "stdout",
     "output_type": "stream",
     "text": [
      "\n"
     ]
    }
   ],
   "source": [
    "system(\"convert -alpha off -background white -density 300 -trim plot_notebook_masking.000001.png tmp1.png; mv tmp1.png plot_notebook_masking.000001.png\") "
   ]
  },
  {
   "cell_type": "markdown",
   "metadata": {},
   "source": [
    "![notebook masking](plot_notebook_masking.000001.png)"
   ]
  },
  {
   "cell_type": "markdown",
   "metadata": {},
   "source": [
    "Second plot: Create the plot of the mask file which contains only 0 and 1."
   ]
  },
  {
   "cell_type": "code",
   "execution_count": 41,
   "metadata": {
    "collapsed": false
   },
   "outputs": [
    {
     "name": "stdout",
     "output_type": "stream",
     "text": [
      "\n"
     ]
    }
   ],
   "source": [
    "plot_mask_file = gsn_csm_contour_map(wks,ma,res)\n",
    "\n",
    "system(\"convert -alpha off -background white -density 300 -trim plot_notebook_masking.000002.png tmp2.png; mv tmp2.png plot_notebook_masking.000002.png\") "
   ]
  },
  {
   "cell_type": "markdown",
   "metadata": {},
   "source": [
    "![notebook masking](plot_notebook_masking.000002.png)"
   ]
  },
  {
   "cell_type": "markdown",
   "metadata": {},
   "source": [
    "Third Plot: Create the plot of the masked data tas_regrid."
   ]
  },
  {
   "cell_type": "code",
   "execution_count": 42,
   "metadata": {
    "collapsed": false
   },
   "outputs": [
    {
     "name": "stdout",
     "output_type": "stream",
     "text": [
      "\n"
     ]
    }
   ],
   "source": [
    "plot_mask_data = gsn_csm_contour_map(wks,land_only,res)\n",
    "\n",
    "system(\"convert -alpha off -background white -density 300 -trim plot_notebook_masking.000003.png tmp3.png; mv tmp3.png plot_notebook_masking.000003.png\") "
   ]
  },
  {
   "cell_type": "markdown",
   "metadata": {},
   "source": [
    "![notebook masking](plot_notebook_masking.000003.png)"
   ]
  }
 ],
 "metadata": {
  "kernelspec": {
   "display_name": "NCL",
   "language": "ncl",
   "name": "ncl_kernel"
  },
  "language_info": {
   "file_extension": ".ncl",
   "mimetype": "text/plain",
   "name": "ncl"
  }
 },
 "nbformat": 4,
 "nbformat_minor": 0
}
