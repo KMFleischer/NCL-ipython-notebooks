{
 "cells": [
  {
   "cell_type": "markdown",
   "metadata": {},
   "source": [
    "## DKRZ NCL notebook exmple\n",
    "<table align=\"left\">\n",
    "<tr><td>Title:</td><td>The NCL viewport</td></tr>\n",
    "<tr><td>Description</td><td>Shows how to use the viewport resources to resize the plot and position it in the frame</td></tr>\n",
    "<tr><td>20.07.18</td><td>kmf</td></tr>\n",
    "</table>"
   ]
  },
  {
   "cell_type": "markdown",
   "metadata": {},
   "source": [
    "First, we define the graphics output format which should be PNG and of size 300x300 pixels."
   ]
  },
  {
   "cell_type": "code",
   "execution_count": 1,
   "metadata": {
    "collapsed": false
   },
   "outputs": [
    {
     "name": "stdout",
     "output_type": "stream",
     "text": [
      "\n"
     ]
    }
   ],
   "source": [
    "wks_type = \"png\"\n",
    "wks_type@wkWidth  = 300\n",
    "wks_type@wkHeight = 300\n",
    "wks = gsn_open_wks(wks_type,\"plot_viewport_settings\")"
   ]
  },
  {
   "cell_type": "markdown",
   "metadata": {},
   "source": [
    "If we do not change any default setting for the viewport NCL will center the plot for us."
   ]
  },
  {
   "cell_type": "code",
   "execution_count": 2,
   "metadata": {
    "collapsed": false
   },
   "outputs": [
    {
     "name": "stdout",
     "output_type": "stream",
     "text": [
      "\n"
     ]
    }
   ],
   "source": [
    "plot = gsn_csm_map(wks,True)"
   ]
  },
  {
   "cell_type": "markdown",
   "metadata": {},
   "source": [
    "![viewport settings 1](./plot_viewport_settings.000001.png)"
   ]
  },
  {
   "cell_type": "markdown",
   "metadata": {},
   "source": [
    "### Viewport edge\n",
    "Well, we can't see the edge of the viewport but we can show it using the **gsn_polyline_ndc** function (ndc - normalized device coordinates). <br/>\n",
    "Therefore, we have to assign a variable of type logical and tell NCL not to advance the frame so that the polylines can be added to the plot."
   ]
  },
  {
   "cell_type": "code",
   "execution_count": 3,
   "metadata": {
    "collapsed": false
   },
   "outputs": [
    {
     "name": "stdout",
     "output_type": "stream",
     "text": [
      "\n"
     ]
    }
   ],
   "source": [
    "res = True\n",
    "res@gsnFrame = False"
   ]
  },
  {
   "cell_type": "markdown",
   "metadata": {},
   "source": [
    "Draw the polyline close to the viewport edge. **The viewport is always a square with x: 0.0-1.0 and y: 0.0-1.0.**"
   ]
  },
  {
   "cell_type": "code",
   "execution_count": 4,
   "metadata": {
    "collapsed": false
   },
   "outputs": [
    {
     "name": "stdout",
     "output_type": "stream",
     "text": [
      "\n"
     ]
    }
   ],
   "source": [
    "x = (/0.0001, 0.9999, 0.9999, 0.0001, 0.0001/)\n",
    "y = (/0.0001, 0.0001, 0.9999, 0.9999, 0.0001/)\n",
    "\n",
    "gsn_polyline_ndc(wks,x,y,True)"
   ]
  },
  {
   "cell_type": "markdown",
   "metadata": {},
   "source": [
    "Create the plot again but note that we have to use **res** instead of the logical **True** for the plot function. "
   ]
  },
  {
   "cell_type": "code",
   "execution_count": 5,
   "metadata": {
    "collapsed": false
   },
   "outputs": [
    {
     "name": "stdout",
     "output_type": "stream",
     "text": [
      "\n"
     ]
    }
   ],
   "source": [
    "plot = gsn_csm_map(wks,res)\n",
    "frame(wks)"
   ]
  },
  {
   "cell_type": "markdown",
   "metadata": {},
   "source": [
    "![viewport settings 2](./plot_viewport_settings.000002.png)\n",
    "Since we are creating a few plots NCL will save each plot output to a separated PNG file named plot_viewport_settings.000001.png, plot_viewport_settings.000002.png, ..."
   ]
  },
  {
   "cell_type": "markdown",
   "metadata": {},
   "source": [
    "### Moving the plot\n",
    "The next step is to change some default viewport settings to move the plot uppward and slightly to the left. **vpXF** specifies the location of left edge of the View object's bounding box in NDC (normalized device coordinates) space (default 0.2). And accordingly **vpYF** specifies the location of top edge of the View object's bounding box in NDC space (default: 0.8). "
   ]
  },
  {
   "cell_type": "code",
   "execution_count": 6,
   "metadata": {
    "collapsed": false
   },
   "outputs": [
    {
     "name": "stdout",
     "output_type": "stream",
     "text": [
      "\n"
     ]
    }
   ],
   "source": [
    "res@vpXF = 0.05\n",
    "res@vpYF = 0.99"
   ]
  },
  {
   "cell_type": "markdown",
   "metadata": {},
   "source": [
    "Let's see what happen."
   ]
  },
  {
   "cell_type": "code",
   "execution_count": 7,
   "metadata": {
    "collapsed": false
   },
   "outputs": [
    {
     "name": "stdout",
     "output_type": "stream",
     "text": [
      "\n"
     ]
    }
   ],
   "source": [
    "gsn_polyline_ndc(wks,x,y,True)\n",
    "\n",
    "plot = gsn_csm_map(wks,res)\n",
    "frame(wks)"
   ]
  },
  {
   "cell_type": "markdown",
   "metadata": {},
   "source": [
    "![viewport settings 3](plot_viewport_settings.000003.png)"
   ]
  },
  {
   "cell_type": "markdown",
   "metadata": {},
   "source": [
    "Ok, that was a little bit too much. Let's play with the values."
   ]
  },
  {
   "cell_type": "code",
   "execution_count": 8,
   "metadata": {
    "collapsed": false
   },
   "outputs": [
    {
     "name": "stdout",
     "output_type": "stream",
     "text": [
      "\n"
     ]
    }
   ],
   "source": [
    "res@vpXF = 0.07\n",
    "res@vpYF = 0.98"
   ]
  },
  {
   "cell_type": "markdown",
   "metadata": {},
   "source": [
    "Create the plot."
   ]
  },
  {
   "cell_type": "code",
   "execution_count": 9,
   "metadata": {
    "collapsed": false
   },
   "outputs": [
    {
     "name": "stdout",
     "output_type": "stream",
     "text": [
      "\n"
     ]
    }
   ],
   "source": [
    "gsn_polyline_ndc(wks,x,y,True)\n",
    "\n",
    "plot = gsn_csm_map(wks,res)\n",
    "frame(wks)"
   ]
  },
  {
   "cell_type": "markdown",
   "metadata": {},
   "source": [
    "![viewport settings 4 ](./plot_viewport_settings.000004.png)\n",
    "Better :-)"
   ]
  },
  {
   "cell_type": "markdown",
   "metadata": {},
   "source": [
    "### Changing the plot size\n",
    "The next step is to change the size of the plot with the viewport resource settings **vpWidthF** and **vpHeightF**. **vpWidthF** specifies the width of View object's bounding box in NDC units (default: 0.6).\n",
    "**vpHeightF** specifies the height of View object's bounding box in NDC units (default: 0.6)."
   ]
  },
  {
   "cell_type": "code",
   "execution_count": 10,
   "metadata": {
    "collapsed": false
   },
   "outputs": [
    {
     "name": "stdout",
     "output_type": "stream",
     "text": [
      "\n"
     ]
    }
   ],
   "source": [
    "res@vpWidthF = 0.6\n",
    "res@vpHeightF = 0.3"
   ]
  },
  {
   "cell_type": "markdown",
   "metadata": {},
   "source": [
    "Create the plot."
   ]
  },
  {
   "cell_type": "code",
   "execution_count": 11,
   "metadata": {
    "collapsed": false
   },
   "outputs": [
    {
     "name": "stdout",
     "output_type": "stream",
     "text": [
      "\n"
     ]
    }
   ],
   "source": [
    "gsn_polyline_ndc(wks,x,y,True)\n",
    "\n",
    "plot = gsn_csm_map(wks,res)\n",
    "frame(wks)"
   ]
  },
  {
   "cell_type": "markdown",
   "metadata": {},
   "source": [
    "![viewport settings 5 ](./plot_viewport_settings.000005.png)"
   ]
  },
  {
   "cell_type": "markdown",
   "metadata": {},
   "source": [
    "### Working with two plots\n",
    "Sometimes we want to display two or more plots in the same frame. Therfore, we can use the **gsn_panel** function to do it for us but if we want *more control about size and position* it is better to use the **viewport resources**."
   ]
  },
  {
   "cell_type": "markdown",
   "metadata": {
    "collapsed": true
   },
   "source": [
    "Draw the polylines, add a title to the plot and draw the first plot."
   ]
  },
  {
   "cell_type": "code",
   "execution_count": 12,
   "metadata": {
    "collapsed": false
   },
   "outputs": [
    {
     "name": "stdout",
     "output_type": "stream",
     "text": [
      "\n"
     ]
    }
   ],
   "source": [
    "gsn_polyline_ndc(wks,x,y,True)\n",
    "\n",
    "res@tiMainString = \"First plot\"\n",
    "\n",
    "plot = gsn_csm_map(wks,res)"
   ]
  },
  {
   "cell_type": "markdown",
   "metadata": {},
   "source": [
    "Create a second plot with its title and draw it below the first one."
   ]
  },
  {
   "cell_type": "code",
   "execution_count": 13,
   "metadata": {
    "collapsed": false
   },
   "outputs": [
    {
     "name": "stdout",
     "output_type": "stream",
     "text": [
      "\n"
     ]
    }
   ],
   "source": [
    "res@tiMainString = \"Second plot\"\n",
    "\n",
    "res@vpYF = 0.58\n",
    "\n",
    "plot2 = gsn_csm_map(wks,res)\n",
    "frame(wks)"
   ]
  },
  {
   "cell_type": "markdown",
   "metadata": {},
   "source": [
    "![viewport settings 6 ](./plot_viewport_settings.000006.png)\n"
   ]
  },
  {
   "cell_type": "markdown",
   "metadata": {},
   "source": [
    "### Playing with multiple plots\n",
    "Ok, let's see what we can do with multiple plots using their own resources."
   ]
  },
  {
   "cell_type": "markdown",
   "metadata": {},
   "source": [
    "The next part will shortly describe how to handle multiple plots with own resources, different sizes and positions. For a cleaner coding we will define a new graphic output and create new plots."
   ]
  },
  {
   "cell_type": "code",
   "execution_count": 14,
   "metadata": {
    "collapsed": false
   },
   "outputs": [
    {
     "name": "stdout",
     "output_type": "stream",
     "text": [
      "\n"
     ]
    }
   ],
   "source": [
    "wks2_type = \"png\"\n",
    "wks2_type@wkWidth  = 300\n",
    "wks2_type@wkHeight = 300\n",
    "wks2 = gsn_open_wks(wks2_type,\"plot_viewport_settings_multiple_plots\")"
   ]
  },
  {
   "cell_type": "markdown",
   "metadata": {},
   "source": [
    "In this example we'll create 4 plots. The common resources for the plots can be copied."
   ]
  },
  {
   "cell_type": "code",
   "execution_count": 15,
   "metadata": {
    "collapsed": false
   },
   "outputs": [
    {
     "name": "stdout",
     "output_type": "stream",
     "text": [
      "\n"
     ]
    }
   ],
   "source": [
    "res1 = True\n",
    "res1@gsnFrame = False\n",
    "\n",
    "res3 = res1\n",
    "res4 = res1"
   ]
  },
  {
   "cell_type": "markdown",
   "metadata": {},
   "source": [
    "Plot 1 and plot 2 should have the same size and be placed on the left side among each other. "
   ]
  },
  {
   "cell_type": "code",
   "execution_count": 16,
   "metadata": {
    "collapsed": false
   },
   "outputs": [
    {
     "name": "stdout",
     "output_type": "stream",
     "text": [
      "\n"
     ]
    }
   ],
   "source": [
    "res1@vpWidthF = 0.46\n",
    "res1@vpHeightF = 0.23\n",
    "res1@vpXF = 0.07\n",
    "\n",
    "res2 = res1\n",
    "\n",
    "res1@tiMainString = \"First plot\"\n",
    "res1@vpYF = 0.9\n",
    "\n",
    "res2@tiMainString = \"Second plot\"\n",
    "res2@vpYF = 0.5"
   ]
  },
  {
   "cell_type": "markdown",
   "metadata": {},
   "source": [
    "Plot 3 and plot 4 should be much smaller and be placed on the right side among each other."
   ]
  },
  {
   "cell_type": "code",
   "execution_count": 17,
   "metadata": {
    "collapsed": false
   },
   "outputs": [
    {
     "name": "stdout",
     "output_type": "stream",
     "text": [
      "\n"
     ]
    }
   ],
   "source": [
    "res3@vpWidthF = 0.34\n",
    "res3@vpHeightF = 0.17\n",
    "res3@vpXF = 0.62\n",
    "\n",
    "res4 = res3\n",
    "\n",
    "res3@tiMainString = \"Third plot\"\n",
    "res3@vpYF = 0.9\n",
    "\n",
    "res4@tiMainString = \"Fourth plot\"\n",
    "res4@vpYF = 0.6"
   ]
  },
  {
   "cell_type": "markdown",
   "metadata": {},
   "source": [
    "Now, create all 4 plots. For convenience, they are simple maps again. Draw a line at the edges."
   ]
  },
  {
   "cell_type": "code",
   "execution_count": 18,
   "metadata": {
    "collapsed": false
   },
   "outputs": [
    {
     "name": "stdout",
     "output_type": "stream",
     "text": [
      "\n"
     ]
    }
   ],
   "source": [
    "gsn_polyline_ndc(wks2,x,y,True)\n",
    "\n",
    "plot1 = gsn_csm_map(wks2,res1)\n",
    "plot2 = gsn_csm_map(wks2,res2)\n",
    "plot3 = gsn_csm_map(wks2,res3)\n",
    "plot4 = gsn_csm_map(wks2,res4)\n",
    "\n",
    "frame(wks2)"
   ]
  },
  {
   "cell_type": "markdown",
   "metadata": {},
   "source": [
    "![viewport multiple plots](plot_viewport_settings_multiple_plots.png)"
   ]
  }
 ],
 "metadata": {
  "kernelspec": {
   "display_name": "NCL",
   "language": "ncl",
   "name": "ncl_kernel"
  },
  "language_info": {
   "file_extension": ".ncl",
   "mimetype": "text/plain",
   "name": "ncl"
  }
 },
 "nbformat": 4,
 "nbformat_minor": 0
}
