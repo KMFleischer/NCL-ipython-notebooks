{
 "cells": [
  {
   "cell_type": "markdown",
   "metadata": {},
   "source": [
    "## DKRZ NCL notebook example\n",
    "<table align=\"left\">\n",
    "<tr><td>Title:</td><td>Regridding</td></tr>\n",
    "<tr><td>Description</td><td>Regrid data from curvilinear grid to coarse 1x1 degree rectilinear grid</td></tr>\n",
    "<tr><td>23.07.18</td><td>kmf</td></tr>\n",
    "</table>"
   ]
  },
  {
   "cell_type": "markdown",
   "metadata": {},
   "source": [
    "Load the ESMF library. **Note: since v6.5.0 automatically loaded.**"
   ]
  },
  {
   "cell_type": "code",
   "execution_count": 15,
   "metadata": {
    "collapsed": false
   },
   "outputs": [
    {
     "name": "stdout",
     "output_type": "stream",
     "text": [
      "\n"
     ]
    }
   ],
   "source": [
    "load \"$NCARG_ROOT/lib/ncarg/nclscripts/esmf/ESMF_regridding.ncl\""
   ]
  },
  {
   "cell_type": "markdown",
   "metadata": {},
   "source": [
    "Open file and read the variable tos. The data set is included in the NCL package. The data set tos_ocean_bipolar_grid.nc contains data on a curvilinear grid (latitude and longitude coordinate variables are 2-dimensional)."
   ]
  },
  {
   "cell_type": "code",
   "execution_count": 16,
   "metadata": {
    "collapsed": false
   },
   "outputs": [
    {
     "name": "stdout",
     "output_type": "stream",
     "text": [
      "\n"
     ]
    }
   ],
   "source": [
    "f   =  addfile(\"$NCARG_ROOT/lib/ncarg/data/nug/tos_ocean_bipolar_grid.nc\",\"r\")\n",
    "tos =  f->tos(0,:,:)"
   ]
  },
  {
   "cell_type": "markdown",
   "metadata": {},
   "source": [
    "When the lat and lon coordinate variables are 2-dimensional adding the attributes lat2d and lon2d to the variable tells NCL what kind of source grid we have."
   ]
  },
  {
   "cell_type": "code",
   "execution_count": 17,
   "metadata": {
    "collapsed": false
   },
   "outputs": [
    {
     "name": "stdout",
     "output_type": "stream",
     "text": [
      "\n"
     ]
    }
   ],
   "source": [
    "tos@lat2d =  f->lat\n",
    "tos@lon2d =  f->lon"
   ]
  },
  {
   "cell_type": "markdown",
   "metadata": {},
   "source": [
    "Print the metadata summary of variable tos. **Note: The NCL Kernel is not displaying the output of printVarSummary. You can download the script and run it in a terminal and it will show the printVarSummary results).**"
   ]
  },
  {
   "cell_type": "code",
   "execution_count": 18,
   "metadata": {
    "collapsed": false
   },
   "outputs": [
    {
     "name": "stdout",
     "output_type": "stream",
     "text": [
      "\n"
     ]
    }
   ],
   "source": [
    "printVarSummary(tos)"
   ]
  },
  {
   "cell_type": "markdown",
   "metadata": {},
   "source": [
    "Set ESMF resources."
   ]
  },
  {
   "cell_type": "code",
   "execution_count": 19,
   "metadata": {
    "collapsed": false
   },
   "outputs": [
    {
     "name": "stdout",
     "output_type": "stream",
     "text": [
      "\n"
     ]
    }
   ],
   "source": [
    "Opt                 =  True\n",
    "Opt@InterpMethod    = \"bilinear\"\n",
    "Opt@ForceOverwrite  =  True\n",
    "Opt@SrcMask2D       =  where(.not. ismissing(tos),1,0)\n",
    "Opt@DstGridType     = \"1x1\"                     ;-- Destination grid\n",
    "Opt@DstLLCorner     =  (/-89.75d,   0.00d /)\n",
    "Opt@DstURCorner     =  (/ 89.75d, 359.75d /) "
   ]
  },
  {
   "cell_type": "markdown",
   "metadata": {},
   "source": [
    "Regrid variable tos to 1x1 degrees rectilinear grid."
   ]
  },
  {
   "cell_type": "code",
   "execution_count": 20,
   "metadata": {
    "collapsed": false
   },
   "outputs": [
    {
     "name": "stdout",
     "output_type": "stream",
     "text": [
      "\n"
     ]
    }
   ],
   "source": [
    "tos_regrid = ESMF_regrid(tos,Opt)"
   ]
  },
  {
   "cell_type": "markdown",
   "metadata": {},
   "source": [
    "Print the metadata summary of the regridded variable tos_regrid. **Note: The NCL Kernel is not displaying the output of printVarSummary. You can download the script and run it in a terminal and it will show the printVarSummary results).**"
   ]
  },
  {
   "cell_type": "code",
   "execution_count": 21,
   "metadata": {
    "collapsed": false
   },
   "outputs": [
    {
     "name": "stdout",
     "output_type": "stream",
     "text": [
      "\n"
     ]
    }
   ],
   "source": [
    "printVarSummary(tos_regrid)"
   ]
  },
  {
   "cell_type": "markdown",
   "metadata": {},
   "source": [
    "Send graphic output to PNG file."
   ]
  },
  {
   "cell_type": "code",
   "execution_count": 22,
   "metadata": {
    "collapsed": false
   },
   "outputs": [
    {
     "name": "stdout",
     "output_type": "stream",
     "text": [
      "\n"
     ]
    }
   ],
   "source": [
    "wks = gsn_open_wks(\"png\",\"plot_regridding\")"
   ]
  },
  {
   "cell_type": "markdown",
   "metadata": {},
   "source": [
    "Set plot resources."
   ]
  },
  {
   "cell_type": "code",
   "execution_count": 23,
   "metadata": {
    "collapsed": false
   },
   "outputs": [
    {
     "name": "stdout",
     "output_type": "stream",
     "text": [
      "\n"
     ]
    }
   ],
   "source": [
    "res                =  True\n",
    "res@gsnDraw        =  False                   ;-- don't draw the plot, yet\n",
    "res@gsnFrame       =  False                   ;-- don't advance the frame\n",
    "\n",
    "res@cnFillOn       =  True                    ;-- contour fill \n",
    "res@cnFillPalette  = \"cmp_b2r\"\n",
    "res@cnLinesOn      =  False                   ;-- turn off contour lines\n",
    "res@cnLineLabelsOn =  False                   ;-- turn off contour labels\n",
    "res@cnFillMode     = \"RasterFill\"             ;-- turn raster fill on\n",
    "\n",
    "res@lbLabelBarOn   =  False                   ;-- don't draw a labelbar; gsn_panel will do it later"
   ]
  },
  {
   "cell_type": "markdown",
   "metadata": {},
   "source": [
    "Set plot title and create the contour plot of variable tos in memory."
   ]
  },
  {
   "cell_type": "code",
   "execution_count": 24,
   "metadata": {
    "collapsed": false
   },
   "outputs": [
    {
     "name": "stdout",
     "output_type": "stream",
     "text": [
      "\n"
     ]
    }
   ],
   "source": [
    "res@tiMainString  = \"Original data\"\n",
    "\n",
    "plot_source = gsn_csm_contour_map(wks,tos,res)"
   ]
  },
  {
   "cell_type": "markdown",
   "metadata": {},
   "source": [
    "Set plot title and create the contour plot of variable tos_regrid in memory."
   ]
  },
  {
   "cell_type": "code",
   "execution_count": 25,
   "metadata": {
    "collapsed": false
   },
   "outputs": [
    {
     "name": "stdout",
     "output_type": "stream",
     "text": [
      "\n"
     ]
    }
   ],
   "source": [
    "res@tiMainString  = \"Regridded data\"\n",
    "                     \n",
    "plot_regrid = gsn_csm_contour_map(wks,tos_regrid,res)"
   ]
  },
  {
   "cell_type": "markdown",
   "metadata": {},
   "source": [
    "Set panel resources."
   ]
  },
  {
   "cell_type": "code",
   "execution_count": 26,
   "metadata": {
    "collapsed": false
   },
   "outputs": [
    {
     "name": "stdout",
     "output_type": "stream",
     "text": [
      "\n"
     ]
    }
   ],
   "source": [
    "pres                     =  True\n",
    "pres@gsnMaximize         =  True                    ;-- maximize graphic output\n",
    "pres@gsnPanelLabelBar    =  True                    ;-- draw common labelbar\n",
    "pres@lbLabelFontHeightF  =  0.01"
   ]
  },
  {
   "cell_type": "markdown",
   "metadata": {},
   "source": [
    "Create the panel plot."
   ]
  },
  {
   "cell_type": "code",
   "execution_count": 27,
   "metadata": {
    "collapsed": false
   },
   "outputs": [
    {
     "name": "stdout",
     "output_type": "stream",
     "text": [
      "\n"
     ]
    }
   ],
   "source": [
    "gsn_panel(wks,(/plot_source,plot_regrid/),(/2,1/),pres)"
   ]
  },
  {
   "cell_type": "markdown",
   "metadata": {},
   "source": [
    "![regridding](plot_regridding.png)"
   ]
  }
 ],
 "metadata": {
  "kernelspec": {
   "display_name": "NCL",
   "language": "ncl",
   "name": "ncl_kernel"
  },
  "language_info": {
   "file_extension": ".ncl",
   "mimetype": "text/plain",
   "name": "ncl"
  }
 },
 "nbformat": 4,
 "nbformat_minor": 0
}
