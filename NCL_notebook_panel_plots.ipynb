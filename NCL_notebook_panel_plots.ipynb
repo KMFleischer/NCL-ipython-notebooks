{
 "cells": [
  {
   "cell_type": "markdown",
   "metadata": {},
   "source": [
    "## DKRZ NCL notebook example\n",
    "<table align=\"left\">\n",
    "<tr><td>Title:</td><td>Panel plots</td></tr>\n",
    "<tr><td>Description</td><td>Display multiple plots on the same page</td></tr>\n",
    "<tr><td>23.07.18</td><td>kmf</td></tr>\n",
    "</table>"
   ]
  },
  {
   "cell_type": "markdown",
   "metadata": {},
   "source": [
    "To display multiple plots on the same page NCL provides the gsn_panel function to do this for you. The name of the plots and its appearance likely in a table in rows and colums have to be given. With the panel resources you can set a panel title and use a common labelbar. </br></br>\n",
    "\n",
    "**Notes:**\n",
    "- The gsnMaximize resource should only be set in the panel resource list and NOT in the resource lists of the plots.\n",
    "- If you want more control about plot size and positions use the viewport resources instead of gsn_panel."
   ]
  },
  {
   "cell_type": "markdown",
   "metadata": {},
   "source": [
    "Open file and read the variables t and rhum. The data set is included in the NCL package."
   ]
  },
  {
   "cell_type": "code",
   "execution_count": 1,
   "metadata": {
    "collapsed": false
   },
   "outputs": [
    {
     "name": "stdout",
     "output_type": "stream",
     "text": [
      "\n"
     ]
    }
   ],
   "source": [
    "f    = addfile(\"$NCARG_ROOT/lib/ncarg/data/nug/rectilinear_grid_3D.nc\",\"r\")\n",
    "temp = f->t\n",
    "rhum = f->rhumidity"
   ]
  },
  {
   "cell_type": "markdown",
   "metadata": {},
   "source": [
    "Send graphic output to PNG files plot_panel_plots.000001.png, plot_panel_plots.000002.png, ..."
   ]
  },
  {
   "cell_type": "code",
   "execution_count": 2,
   "metadata": {
    "collapsed": false
   },
   "outputs": [
    {
     "name": "stdout",
     "output_type": "stream",
     "text": [
      "\n"
     ]
    }
   ],
   "source": [
    "wks_type = \"png\"\n",
    "wks_type@wkWidth  = 500\n",
    "wks_type@wkHeight = 500\n",
    "wks = gsn_open_wks(wks_type,\"plot_panel_plots\")"
   ]
  },
  {
   "cell_type": "markdown",
   "metadata": {},
   "source": [
    "Define the plot resources for temp and rhum. Use contour fill and different color maps. </br></br>\n",
    "**Note: Set gsnDraw and gsnFrame to False because gsn_panel will do that for you.**"
   ]
  },
  {
   "cell_type": "code",
   "execution_count": 3,
   "metadata": {
    "collapsed": false
   },
   "outputs": [
    {
     "name": "stdout",
     "output_type": "stream",
     "text": [
      "\n"
     ]
    }
   ],
   "source": [
    "rest = True\n",
    "rest@gsnDraw  = False                      ;-- create the plots in memory\n",
    "rest@gsnFrame = False                      ;-- don't advance the frame\n",
    "rest@cnFillOn = True\n",
    "\n",
    "resr = rest\n",
    "\n",
    "rest@cnFillPalette   = \"cmp_b2r\"\n",
    "rest@gsnCenterString = \"lev=100000 Pa\"\n",
    "\n",
    "resr@cnFillPalette   = \"MPL_YlGnBu\"\n",
    "resr@gsnCenterString = \"lev=100000 Pa\""
   ]
  },
  {
   "cell_type": "markdown",
   "metadata": {},
   "source": [
    "Create the plots of lev=100000 Pa in memory."
   ]
  },
  {
   "cell_type": "code",
   "execution_count": 4,
   "metadata": {
    "collapsed": false
   },
   "outputs": [
    {
     "name": "stdout",
     "output_type": "stream",
     "text": [
      "\n"
     ]
    }
   ],
   "source": [
    "plot_temp_lev1 = gsn_csm_contour_map(wks,temp(0,0,:,:),rest)\n",
    "plot_rhum_lev1 = gsn_csm_contour_map(wks,rhum(0,0,:,:),resr)"
   ]
  },
  {
   "cell_type": "markdown",
   "metadata": {},
   "source": [
    "Set panel title and create a panel with 2 rows and 1 column."
   ]
  },
  {
   "cell_type": "code",
   "execution_count": 5,
   "metadata": {
    "collapsed": false
   },
   "outputs": [
    {
     "name": "stdout",
     "output_type": "stream",
     "text": [
      "\n"
     ]
    }
   ],
   "source": [
    "pres = True\n",
    "\n",
    "pres@gsnPanelMainString = \"Panel 2 rows x 1 column (/2,1/)\"\n",
    "\n",
    "gsn_panel(wks,(/plot_temp_lev1,plot_rhum_lev1/),(/2,1/),pres)"
   ]
  },
  {
   "cell_type": "markdown",
   "metadata": {},
   "source": [
    "![panel plots](plot_panel_plots.000001.png)"
   ]
  },
  {
   "cell_type": "markdown",
   "metadata": {},
   "source": [
    "Create a panel with 1 rows and 2 column. There is a lot of white space around the plot and if you want to crop it see ImageMagick's *convert* program."
   ]
  },
  {
   "cell_type": "code",
   "execution_count": 6,
   "metadata": {
    "collapsed": false
   },
   "outputs": [
    {
     "name": "stdout",
     "output_type": "stream",
     "text": [
      "\n"
     ]
    }
   ],
   "source": [
    "pres@gsnPanelMainString = \"Panel 1 rows x 2 column (/1,2/)\"\n",
    "\n",
    "gsn_panel(wks,(/plot_temp_lev1,plot_rhum_lev1/),(/1,2/),pres)"
   ]
  },
  {
   "cell_type": "markdown",
   "metadata": {},
   "source": [
    "![panel plots](plot_panel_plots.000002.png)"
   ]
  },
  {
   "cell_type": "markdown",
   "metadata": {},
   "source": [
    "Create additional plots (lev=100000,1000 Pa) and create a panel with 2 rows and 2 column."
   ]
  },
  {
   "cell_type": "code",
   "execution_count": 7,
   "metadata": {
    "collapsed": false
   },
   "outputs": [
    {
     "name": "stdout",
     "output_type": "stream",
     "text": [
      "\n"
     ]
    }
   ],
   "source": [
    "rest@gsnCenterString  = \"lev=1000 Pa\"\n",
    "plot_temp_lev16 = gsn_csm_contour_map(wks,temp(0,16,:,:),rest)\n",
    "\n",
    "resr@gsnCenterString  = \"lev=1000 Pa\"\n",
    "plot_rhum_lev16 = gsn_csm_contour_map(wks,rhum(0,16,:,:),resr)\n",
    "\n",
    "pres@gsnPanelMainString = \"Panel 2 rows x 2 column (/2,2/)\"\n",
    "\n",
    "gsn_panel(wks,(/plot_temp_lev1,plot_rhum_lev1,plot_temp_lev16,plot_rhum_lev16/),(/2,2/),pres)"
   ]
  },
  {
   "cell_type": "markdown",
   "metadata": {},
   "source": [
    "![panel plots](plot_panel_plots.000003.png)"
   ]
  },
  {
   "cell_type": "markdown",
   "metadata": {},
   "source": [
    "Create additional plots (lev=25000 Pa)."
   ]
  },
  {
   "cell_type": "code",
   "execution_count": 8,
   "metadata": {
    "collapsed": false
   },
   "outputs": [
    {
     "name": "stdout",
     "output_type": "stream",
     "text": [
      "\n"
     ]
    }
   ],
   "source": [
    "rest@gsnCenterString  = \"lev=25000 Pa\"\n",
    "plot_temp_lev3 = gsn_csm_contour_map(wks,temp(0,3,:,:),rest)\n",
    "\n",
    "resr@gsnCenterString  = \"lev=25000 Pa\"\n",
    "plot_rhum_lev3 = gsn_csm_contour_map(wks,rhum(0,3,:,:),resr)"
   ]
  },
  {
   "cell_type": "markdown",
   "metadata": {},
   "source": [
    "Create the panel of 3 rows and 2 column with all plots. For a better readability put the plot names into an Array."
   ]
  },
  {
   "cell_type": "code",
   "execution_count": 9,
   "metadata": {
    "collapsed": false
   },
   "outputs": [
    {
     "name": "stdout",
     "output_type": "stream",
     "text": [
      "\n"
     ]
    }
   ],
   "source": [
    "plots = (/plot_temp_lev1,plot_rhum_lev1, \\\n",
    "          plot_temp_lev3,plot_rhum_lev3, \\\n",
    "          plot_temp_lev16,plot_rhum_lev16/)\n",
    "\n",
    "pres@gsnPanelMainString = \"Panel 2 rows x 2 column (/3,2/)\"\n",
    "\n",
    "gsn_panel(wks,plots,(/3,2/),pres)"
   ]
  },
  {
   "cell_type": "markdown",
   "metadata": {},
   "source": [
    "![panel plots](plot_panel_plots.000004.png)"
   ]
  }
 ],
 "metadata": {
  "kernelspec": {
   "display_name": "NCL",
   "language": "ncl",
   "name": "ncl_kernel"
  },
  "language_info": {
   "file_extension": ".ncl",
   "mimetype": "text/plain",
   "name": "ncl"
  }
 },
 "nbformat": 4,
 "nbformat_minor": 0
}
