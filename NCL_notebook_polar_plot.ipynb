{
 "cells": [
  {
   "cell_type": "markdown",
   "metadata": {},
   "source": [
    "# NCL ipython notebook contour polar"
   ]
  },
  {
   "cell_type": "code",
   "execution_count": 21,
   "metadata": {},
   "outputs": [
    {
     "name": "stdout",
     "output_type": "stream",
     "text": [
      "\u001b[?1h\u001b=\n",
      "netcdf rectilinear_grid_2D {\n",
      "dimensions:\n",
      "        lon = 192 ;\n",
      "        lat = 96 ;\n",
      "        time = UNLIMITED ; // (40 currently)\n",
      "variables:\n",
      "        double lon(lon) ;\n",
      "                lon:standard_name = \"longitude\" ;\n",
      "                lon:long_name = \"longitude\" ;\n",
      "                lon:units = \"degrees_east\" ;\n",
      "                lon:axis = \"X\" ;\n",
      "        double lat(lat) ;\n",
      "                lat:standard_name = \"latitude\" ;\n",
      "                lat:long_name = \"latitude\" ;\n",
      "                lat:units = \"degrees_north\" ;\n",
      "                lat:axis = \"Y\" ;\n",
      "        double time(time) ;\n",
      "                time:standard_name = \"time\" ;\n",
      "                time:units = \"hours since 2001-01-01 00:00:00\" ;\n",
      "                time:calendar = \"standard\" ;\n",
      "        float tsurf(time, lat, lon) ;\n",
      "                tsurf:long_name = \"surface temperature\" ;\n",
      "                tsurf:units = \"K\" ;\n",
      "                tsurf:code = 169 ;\n",
      "                tsurf:table = 128 ;\n",
      "                tsurf:grid_type = \"gaussian\" ;\n",
      "        float precip(time, lat, lon) ;\n",
      "                precip:long_name = \"total precipitation\" ;\n",
      "                precip:units = \"kg/m^2s\" ;\n",
      "                precip:code = 4 ;\n",
      "                precip:table = 128 ;\n",
      "                precip:grid_type = \"gaussian\" ;\n",
      "        float u10(time, lat, lon) ;\n",
      "                u10:long_name = \"10m u-velocity\" ;\n",
      "                u10:units = \"m/s\" ;\n",
      "                u10:code = 165 ;\n",
      "                u10:table = 128 ;\n",
      "                u10:grid_type = \"gaussian\" ;\n",
      "        float v10(time, lat, lon) ;\n",
      "                v10:long_name = \"10m v-velocity\" ;\n",
      "                v10:units = \"m/s\" ;\n",
      "                v10:code = 166 ;\n",
      "                v10:table = 128 ;\n",
      "                v10:grid_type = \"gaussian\" ;\n",
      "        float qvi(time, lat, lon) ;\n",
      "                qvi:long_name = \"vertically integrated water vapor\" ;\n",
      "                qvi:units = \"kg/m^2\" ;\n",
      "                qvi:code = 230 ;\n",
      "                qvi:table = 128 ;\n",
      "                qvi:grid_type = \"gaussian\" ;\n",
      "        float slp(time, lat, lon) ;\n",
      "                slp:long_name = \"mean sea level pressure\" ;\n",
      "                slp:units = \"Pa\" ;\n",
      "                slp:code = 151 ;\n",
      "                slp:table = 128 ;\n",
      "                slp:grid_type = \"gaussian\" ;\n",
      "}\n",
      "\u001b[K\u001b[?1l\u001b>\n"
     ]
    }
   ],
   "source": [
    "filename = \"$HOME/NCL/NUG/Version_1.0/data/rectilinear_grid_2D.nc\"\n",
    "\n",
    "system(\"ncdump -h \"+filename)"
   ]
  },
  {
   "cell_type": "code",
   "execution_count": 22,
   "metadata": {},
   "outputs": [
    {
     "name": "stdout",
     "output_type": "stream",
     "text": [
      "\n"
     ]
    }
   ],
   "source": [
    "f = addfile(filename,\"r\")"
   ]
  },
  {
   "cell_type": "code",
   "execution_count": 23,
   "metadata": {},
   "outputs": [
    {
     "name": "stdout",
     "output_type": "stream",
     "text": [
      "Variable: t\n",
      "Type: float\n",
      "Total Size: 2949120 bytes\n",
      "            737280 values\n",
      "Number of Dimensions: 3\n",
      "Dimensions and sizes:\t[time | 40] x [lat | 96] x [lon | 192]\n",
      "Coordinates: \n",
      "            time: [   0.. 234]\n",
      "            lat: [88.57216851400727..-88.57216851400727]\n",
      "            lon: [-180..178.125]\n",
      "Number Of Attributes: 5\n",
      "  grid_type :\tgaussian\n",
      "  table :\t128\n",
      "  code :\t169\n",
      "  units :\tK\n",
      "  long_name :\tsurface temperature\n"
     ]
    }
   ],
   "source": [
    "t = f->tsurf\n",
    "\n",
    "printVarSummary(t)"
   ]
  },
  {
   "cell_type": "code",
   "execution_count": 24,
   "metadata": {},
   "outputs": [
    {
     "name": "stdout",
     "output_type": "stream",
     "text": [
      "\n"
     ]
    }
   ],
   "source": [
    "wks = gsn_open_wks(\"png\",\"plot_polar\")"
   ]
  },
  {
   "cell_type": "code",
   "execution_count": 25,
   "metadata": {},
   "outputs": [
    {
     "name": "stdout",
     "output_type": "stream",
     "text": [
      "\n"
     ]
    }
   ],
   "source": [
    "res              =  True\n",
    "res@cnFillOn     =  True\n",
    "res@tiMainString = \"Title string\"\n",
    "\n",
    "res@mpMinLatF    = 40\n",
    "res@mpCenterLonF = 100\n",
    "\n",
    "res@gsnPolar                 = \"NH\"\n",
    "res@gsnPolarLabelDistance    =  1.1         ;-- default dist. is 1.04\n",
    "res@gsnPolarLabelFontHeightF =  0.015\n",
    "\n",
    "res@gsnPolarLabelSpacing     =  45          ;-- how frequently to label\n",
    "res@gsnPolarLabelDistance    =  1.08        ;-- default is 1.04\n",
    "res@gsnPolarLabelFontHeightF =  0.025       ;-- change font height of labels"
   ]
  },
  {
   "cell_type": "code",
   "execution_count": 26,
   "metadata": {},
   "outputs": [
    {
     "name": "stdout",
     "output_type": "stream",
     "text": [
      "\n"
     ]
    }
   ],
   "source": [
    "plot = gsn_csm_contour_map_polar(wks,t(1,:,:),res)"
   ]
  },
  {
   "cell_type": "markdown",
   "metadata": {},
   "source": [
    "![plot file plot_polar.png](./plot_polar.png \"Polar Plot\")"
   ]
  },
  {
   "cell_type": "code",
   "execution_count": null,
   "metadata": {
    "collapsed": true
   },
   "outputs": [],
   "source": []
  }
 ],
 "metadata": {
  "kernelspec": {
   "display_name": "NCL",
   "language": "ncl",
   "name": "ncl_kernel"
  },
  "language_info": {
   "file_extension": ".ncl",
   "mimetype": "text/plain",
   "name": "ncl"
  }
 },
 "nbformat": 4,
 "nbformat_minor": 2
}
